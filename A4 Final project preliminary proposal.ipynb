{
 "cells": [
  {
   "cell_type": "markdown",
   "id": "841e2902-e3ad-4bd8-8a6e-5c2d6930eab5",
   "metadata": {},
   "source": [
    "# A4: Final Project Preliminary Proposal\n",
    "\n"
   ]
  },
  {
   "cell_type": "markdown",
   "id": "c2bbcf96-ae66-4deb-b258-f7cfb009a26e",
   "metadata": {},
   "source": [
    "### Motivation and Problem Statement:\n",
    "\n",
    "In this analysis, I plan to examine what news outlets, topics and articles are most popular on social media platforms in relation to different news topics. In addition to seeing what types of news these social media platforms are spreading, I will examine how the sentiment scores of the titles and headlines of news articles correlate to their popularity, which can then be related back to the platforms. This analysis will help uncover some of the underlying motivations of social media platforms as well as uncover whether sentiment is related to the popularity of an article and, if they do, whether positive or negative sentiments have a greater correlation with the popularity of news. From a human-centered perspective, this will help inform people about the tendencies of the social media platforms they use and help them to understand how their psychology gravitates toward certain types of news. I hope to understand how people interact with news on social media platforms on a daily basis in order to gain a better understanding about how human psychology interacts with news on social media."
   ]
  },
  {
   "cell_type": "markdown",
   "id": "13ddf514-cce5-440f-b857-de868a864672",
   "metadata": {},
   "source": [
    "### Research Questions:\n",
    "\n",
    "1) Does the sentiment of an article title correlate to its popularity?\n",
    "\n",
    "2) Does the sentiment of an article headline correlate to its popularity?\n",
    "\n",
    "3) How much do the sentiments of article headlines vary from article titles? Is there a correlation?\n",
    "\n",
    "4) Do social media platforms popularize article with certain topics over others?\n",
    "\n",
    "5) Do social media platforms popularize articles with certain sentiments over others?\n",
    "\n",
    "6) Do social media platforms popularize articles with certain sources over other?"
   ]
  },
  {
   "cell_type": "markdown",
   "id": "7b6ad93d-533a-4bee-80d7-0095cb8c443c",
   "metadata": {},
   "source": [
    "### Data Selected for Analysis:\n",
    "\n",
    "The dataset [News Popularity in Multiple Social Media Platforms](https://www.kaggle.com/datasets/nikhiljohnk/news-popularity-in-multiple-social-media-platforms?select=train_file.csv) represents collected data of about 100,000 different news items on four different topics: Economy, Microsoft, Obama and Palestine over the span of 8 months, between November 2015 and July 2016. This is a subset of the dataset of the same name available in the UCI Machine Learning Repository. The dataset (containing two different CSVs) has a unique identifier for news items, the title of the news item according to the official media sources, the headline of the news item according to the official media sources, the original news outlet that published the news item, the query topic used to obtain the items in the official media sources, the date and time of the news items' publication, the final value of the news items' popularity according to the social media sources (Facebook, Google+, LinkedIn), the sentiment score of the title, and the sentiment score of the text in the news items' headline. The license is a CC0: Public Domain which means I can copy, modify, distribute and perform the work, even for commercial purposes, all without asking permission.\n",
    "\n",
    "This dataset is suitable for addressing my research goal because it provides a vast array of different news articles in relation to three different social media platforms as well as a sentiment analysis. I believe that the narrowed scope of four different news topics will allow me to understand the tendencies of these platforms rather than trying to categorize each article into topics as I move through the data. Additionally I believe Facebook, Google+ and LinkedIn are all different enough from each other to gain an understanding of the types of articles that are popluar in the different ecosystems (social, casual, professional) of social media platforms. Some things that need to be noted when looking at this dataset is that the popularity scores of the news items are given by the social media sources, and that the sentiment scores are provided by a machine learning algorithm whose details are not provided in the notebook. This could lead to biased results that either favor the social media companies and/or don't accurately reflect the sentiments of the news items."
   ]
  },
  {
   "cell_type": "markdown",
   "id": "2d76db8b-4ed6-488a-9b03-428131bde7a9",
   "metadata": {},
   "source": [
    "### Related Works:\n",
    "\n",
    "Previous research has sought to uncover some of the factors related to news popularity on social media platforms. One study titled [The Pulse of News in Social Media: Forecasting Popularity](https://www.hpl.hp.com/research/scl/papers/newsprediction/pulse.pdf) found that the most important predictor of the popularity of an article was its source. Could this influence which articles social media platforms promoted? Additionally, another study titled [Are You What You Tweet? The Impact of Sentiment on Digital News Consumption and Social Media Sharing](https://pubsonline.informs.org/doi/10.1287/isre.2022.1112) found that an increase in the sentiment of content increased how much the article was shared on social media, but decreased how many people actually opened the article. Is this a healthy model for the ecosystem of our news on social media?\n",
    "\n",
    "Both of these studies help to inform my the way I approached this study. Specifically, the first study guided me toward asking whether certain news sources were more popular than others. And if so, I wanted to investigate if this was consistent across social media platforms. On the other hand, the second study made me wonder how much variation there was between the sentiment of the title and headline for each article. The second study mentioned previously specifically focused on Twitter to gather their data, so I wanted to see if their findings were consistent across other social media platforms."
   ]
  },
  {
   "cell_type": "markdown",
   "id": "a317cf33-d0af-4b05-9cfc-53de5cf90ce2",
   "metadata": {},
   "source": [
    "### Methodology:\n",
    "\n",
    "In order to find the answers to my research questions, I will use different methods withinin Python depending on the variables I am using.\n",
    "\n",
    "For Questions 1 and 2, I will conduct a **Spearman Rank Correlation** in Python because it is most suitable to find out the relationship between two ranked variables (the sentiment score and the popularity score) that are non-parametric. I will import the CSV dataset as a dataframe using `Pandas` and import `spearmanr` from `scipy.stats` in order to analyze the data. I will present my results by showing my model output and then describing the meaning behind the specific coefficients produced.\n",
    "\n",
    "For Question 3, I will conduct a **Spearman Rank Correlation** to see if there is a relationship between the sentiment of an article headline and the sentiment of an article title (two ranked variables). Additionally, I will conduct a **Wilcoxon Signed-Rank Test** in Python because it is the best way to discover whether there is a significant difference between the sentiment scores of the titles and headlines of the articles. This will be done by using `wilcoxon` within the `scipy.stats` package. I will present my results by showing my model output and then describing the meaning behind the specific coefficients produced.\n",
    "\n",
    "For Questions 4, 5 and 6, I will perform a **qualitative analysis** on the most popular articles for each social media platform in Python. I chose a qualitative analysis for these questions because it will allow me to order the data in descending order of popularity and then isolate the desired variable (topics, sentiments and sources). I will look at the the 10 most popular articles for each social media platform and determine whether any patterns emerge from the data. I plan on presenting the results of my qualitative analysis as an individual table for each social media platform and each variable being looked at (3 tables for each question). Below each table I will describe if any patterns emerge. For example, Question 4 will present a table containing the variables of popularity, the topic, and the social media platform being looked at. This will be followed by a descriptive analysis. Following my description will be the second table for Question 4 which will have the same exact variables except the social media platform will be different. This table will then be followed by its own descriptive analysis, and so forth.\n",
    "\n"
   ]
  },
  {
   "cell_type": "markdown",
   "id": "97591725-0d03-4bbe-b7a0-1b839ae94d88",
   "metadata": {},
   "source": [
    "### Unknowns and dependencies:\n",
    "\n",
    "I don't believe there are any factors outside of my control that will impact by ability to complete this project by the end of the quarter."
   ]
  }
 ],
 "metadata": {
  "kernelspec": {
   "display_name": "Python 3 (ipykernel)",
   "language": "python",
   "name": "python3"
  },
  "language_info": {
   "codemirror_mode": {
    "name": "ipython",
    "version": 3
   },
   "file_extension": ".py",
   "mimetype": "text/x-python",
   "name": "python",
   "nbconvert_exporter": "python",
   "pygments_lexer": "ipython3",
   "version": "3.9.7"
  }
 },
 "nbformat": 4,
 "nbformat_minor": 5
}
