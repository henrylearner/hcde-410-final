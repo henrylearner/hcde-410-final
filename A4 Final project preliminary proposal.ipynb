{
 "cells": [
  {
   "cell_type": "markdown",
   "id": "841e2902-e3ad-4bd8-8a6e-5c2d6930eab5",
   "metadata": {},
   "source": [
    "# A4: Final Project Preliminary Proposal\n",
    "\n"
   ]
  },
  {
   "cell_type": "markdown",
   "id": "c2bbcf96-ae66-4deb-b258-f7cfb009a26e",
   "metadata": {},
   "source": [
    "### Motivation and Problem Statement:\n",
    "\n",
    "In this analysis, I plan to examine what news outlets, topics and articles are most popular on social media platforms in relation to different news topics. In addition to seeing what types of news these social media platforms are spreading, I will examine how the sentiment scores of the titles and headlines of news articles affect their popularity, which can then be related back to the platforms. This analysis will help uncover some of the underlying motivations of social media platforms as well as uncover whether sentiment affects the popularity of an article and, if they do, whether positive or negative sentiments have a greater effect on the popularity of news. From a human-centered perspective, this will help inform people about the tendencies of the social media platforms they use and help them to understand how their psychology gravitates toward certain types of news. I hope to understand how people interact with news on social media platforms on a daily basis in order to gain a better understanding about how human psychology interacts with news on social media."
   ]
  },
  {
   "cell_type": "markdown",
   "id": "7b6ad93d-533a-4bee-80d7-0095cb8c443c",
   "metadata": {},
   "source": [
    "### Data Selected for Analysis:\n",
    "\n",
    "The dataset [News Popularity in Multiple Social Media Platforms](https://www.kaggle.com/datasets/nikhiljohnk/news-popularity-in-multiple-social-media-platforms?select=train_file.csv) represents collected data of about 100,000 different news items on four different topics: Economy, Microsoft, Obama and Palestine over the span of 8 months, between November 2015 and July 2016. The dataset (containing two different CSVs) has a unique identifier for news items, the title of the news item according to the official media sources, the headline of the news item according to the official media sources, the original news outlet that published the news item, the query topic used to obtain the items in the official media sources, the date and time of the news items' publication, the final value of the news items' popularity according to the social media sources (Facebook, Google+, LinkedIn), the sentiment score of the title, and the sentiment score of the text in the news items' headline. The license is a CC0: Public Domain which means I can copy, modify, distribute and perform the work, even for commercial purposes, all without asking permission.\n",
    "\n",
    "This dataset is suitable for addressing my research goal because it provides a vast array of different news articles in relation to three different social media platforms as well as a sentiment analysis. I believe that the narrowed scope of four different news topics will allow me to understand the tendencies of these platforms rather than trying to categorize each article into topics as I move through the data. Additionally I believe Facebook, Google+ and LinkedIn are all different enough from each other to gain an understanding of the types of articles that are popluar in the different ecosystems (social, casual, professional) of social media platforms. Some things that need to be noted when looking at this dataset is that the popularity scores of the news items are given by the social media sources, and that the sentiment scores are provided by a machine learning algorithm whose details are not provided in the notebook. This could lead to biased results that either favor the social media companies and/or don't accurately reflect the sentiments of the news items."
   ]
  },
  {
   "cell_type": "markdown",
   "id": "97591725-0d03-4bbe-b7a0-1b839ae94d88",
   "metadata": {},
   "source": [
    "### Unknowns and dependencies:\n",
    "\n",
    "I don't believe there are any factors outside of my control that will impact by ability to complete this project by the end of the quarter.\n",
    "\n",
    "**Note: I was absent from class during peer feedback, so I am unable to comment on how my colleagues suggested I improve my proposal.**"
   ]
  }
 ],
 "metadata": {
  "kernelspec": {
   "display_name": "Python 3 (ipykernel)",
   "language": "python",
   "name": "python3"
  },
  "language_info": {
   "codemirror_mode": {
    "name": "ipython",
    "version": 3
   },
   "file_extension": ".py",
   "mimetype": "text/x-python",
   "name": "python",
   "nbconvert_exporter": "python",
   "pygments_lexer": "ipython3",
   "version": "3.9.7"
  }
 },
 "nbformat": 4,
 "nbformat_minor": 5
}
