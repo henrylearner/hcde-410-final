{
 "cells": [
  {
   "cell_type": "markdown",
   "id": "841e2902-e3ad-4bd8-8a6e-5c2d6930eab5",
   "metadata": {},
   "source": [
    "# Analyzing the News On Social Media Platforms\n",
    "\n"
   ]
  },
  {
   "cell_type": "markdown",
   "id": "c2bbcf96-ae66-4deb-b258-f7cfb009a26e",
   "metadata": {},
   "source": [
    "## Introduction:\n",
    "\n",
    "In this analysis, I plan to examine what news outlets, topics and articles are most popular on social media platforms in relation to different news topics. In addition to seeing what types of news these social media platforms are spreading, I will examine how the sentiment scores of the titles and headlines of news articles correlate to their popularity, which can then be related back to the platforms. This analysis will help uncover some of the underlying motivations of social media platforms as well as uncover whether sentiment is related to the popularity of an article and, if they do, whether positive or negative sentiments have a greater correlation with the popularity of news. From a human-centered perspective, this will help inform people about the tendencies of the social media platforms they use and help them to understand how their psychology gravitates toward certain types of news. I hope to understand how people interact with news on social media platforms on a daily basis in order to gain a better understanding about how human psychology interacts with news on social media."
   ]
  },
  {
   "cell_type": "markdown",
   "id": "13ddf514-cce5-440f-b857-de868a864672",
   "metadata": {},
   "source": [
    "## Research Questions:\n",
    "\n",
    "*Quantitative Questions*\n",
    "\n",
    "**1) Does the sentiment of an article title correlate to its popularity?**\n",
    "\n",
    "Hypothesis: I believe the more negative the sentiment of a title is, the more popular the article will be.\n",
    "\n",
    "**2) Does the sentiment of an article headline correlate to its popularity?**\n",
    "\n",
    "Hypothesis: I believe the more negative the sentiment of a title is, the more popular the article will be.\n",
    "\n",
    "**3) Is there a correlation between the sentiments of article headlines and the article titles?**\n",
    "\n",
    "Hypothesis: I believe there will be a correlation between the sentiments of the headlines and titles. <br/><br/>\n",
    "\n",
    "*Qualitative Questions*\n",
    "\n",
    "**4) What article topics are most popular on social media platforms?**\n",
    "\n",
    "Hypothesis: I believe social media platforms will popularize articles with more polarizing topics over others (Microsoft and Economy will be the least popular).\n",
    "\n",
    "**5) Do social media platforms popularize articles with certain sentiments over others?**\n",
    "\n",
    "Hypothesis: I believe social media platforms will popularize articles with negative sentiments over others.\n",
    "\n",
    "**6) What sources are most popular on social media platforms?**\n",
    "\n",
    "Hypothesis: I believe social media platforms will popularize articles with more notable sources over others.\n"
   ]
  },
  {
   "cell_type": "markdown",
   "id": "7b6ad93d-533a-4bee-80d7-0095cb8c443c",
   "metadata": {},
   "source": [
    "## Data Selected for Analysis:\n",
    "\n",
    "The dataset [News Popularity in Multiple Social Media Platforms](https://archive.ics.uci.edu/ml/datasets/News+Popularity+in+Multiple+Social+Media+Platforms) represents collected data of about 100,000 different news items on four different topics: Economy, Microsoft, Obama and Palestine over the span of 8 months, between November 2015 and July 2016. To download the raw dataset via the hyperlink above, click \"Data Folder\", \"Data/\", \"News_Final.csv\". \n",
    "\n",
    "The dataset has a unique identifier for news items, the title of the news item according to the official media sources, the headline of the news item according to the official media sources, the original news outlet that published the news item, the query topic used to obtain the items in the official media sources, the date and time of the news items' publication, the final value of the news items' popularity according to the social media sources (Facebook, Google+, LinkedIn), the sentiment score of the title, and the sentiment score of the text in the news items' headline. The process to obtain these sentiment scores was carried out by applying the framework of the `qdap` [R package](https://www.rdocumentation.org/packages/qdap/versions/2.4.3) with default parametrization. Additional information about the dataset can be found [here](https://arxiv.org/pdf/1801.07055.pdf).\n",
    "\n",
    "This dataset is suitable for addressing my research goal because it provides a vast array of different news articles in relation to three different social media platforms as well as a sentiment analysis. I believe that the narrowed scope of four different news topics will allow me to understand the tendencies of these platforms rather than trying to categorize each article into topics as I move through the data. Additionally I believe Facebook, Google+ and LinkedIn are all different enough from each other to gain an understanding of the types of articles that are popluar in the different ecosystems (social, casual, professional) of social media platforms. Some things that need to be noted when looking at this dataset is that the popularity scores of the news items are given by the social media sources, and that the sentiment scores are provided by a machine learning algorithm whose details are not provided in the notebook. This could lead to biased results that either favor the social media companies and/or don't accurately reflect the sentiments of the news items.\n",
    "\n",
    "In some cases, the value of the popularity of news items at a given moment (i.e. timeslice) was not acquirable.\n",
    "These cases are denoted with the value −1, which are mostly associated to scenarios where the items are\n",
    "suggested in official media sources after two days have passed since its publication in the original news outlet.\n",
    "Such situations represent 12.4% of cases concerning the final popularity of items according to the social media\n",
    "source Facebook, and 6.2% of cases for both Google+ and LinkedIn sources.\n",
    "\n",
    "The license for this dataset is a Creative Commons Attribution 4.0 International license (CC BY 4.0), which allows for the sharing and adaptation of the datasets for any purpose, provided that the appropriate credit is given.\n"
   ]
  },
  {
   "cell_type": "markdown",
   "id": "2d76db8b-4ed6-488a-9b03-428131bde7a9",
   "metadata": {},
   "source": [
    "## Related Works:\n",
    "\n",
    "Previous research has sought to uncover some of the factors related to news popularity on social media platforms. One study titled [The Pulse of News in Social Media: Forecasting Popularity](https://www.hpl.hp.com/research/scl/papers/newsprediction/pulse.pdf) found that the most important predictor of the popularity of an article was its source. Additionally, another study titled [Are You What You Tweet? The Impact of Sentiment on Digital News Consumption and Social Media Sharing](https://pubsonline.informs.org/doi/10.1287/isre.2022.1112) found that an increase in the sentiment of content increased how much the article was shared on social media, but decreased how many people actually opened the article.\n",
    "\n",
    "Both of these studies help to inform my the way I approached this study. Specifically, the first study guided me toward asking whether certain news sources were more popular than others. And if so, I wanted to investigate if this was consistent across social media platforms. On the other hand, the second study made me wonder how much variation there was between the sentiment of the title and headline for each article. The second study mentioned previously specifically focused on Twitter to gather their data, so I wanted to see if their findings were consistent across other social media platforms."
   ]
  },
  {
   "cell_type": "markdown",
   "id": "a317cf33-d0af-4b05-9cfc-53de5cf90ce2",
   "metadata": {},
   "source": [
    "## Methodology:\n",
    "\n",
    "In order to find the answers to my research questions, I will use different methods withinin Python depending on the variables I am using.\n",
    "\n",
    "For Questions 1, 2, and 3 I will perform **quantitative analysis** by conducting a **Spearman Rank Correlation** in Python. I chose this method because it is most suitable to find out the relationship between two ranked variables (the sentiment scores and the popularity scores) that are non-parametric. I will import the CSV dataset as a dataframe using `Pandas` and import `spearmanr` from `scipy.stats` in order to analyze the data. I will present my results by showing my model output and then describing the meaning behind the specific coefficients produced.\n",
    "\n",
    "The Spearman Rank function will return a rho-value and a p-value. The rho-value describes the relationship between the two variables being analyzed and will return a value ranging from -1 to +1. A rho-value of -1 denotes a perfect negative relationship between two variables, a rho-value value of 0 denotes no relationship between two variables, and a rho-value value of +1 denotes a perfect positive relationship between two variables. On the other hand, the p-value tells us whether the rho-value is statistically significant. If the p-value of the correlation is less than 0.05, then the correlation is considered to be statistically significant. Anything above this considered negligible.\n",
    "\n",
    "For Questions 4, 5 and 6, I will perform **qualitative analysis** on the most popular articles for each social media platform. I chose qualitative analysis for these questions because it will allow me to order the data in descending order of popularity and then isolate the desired variable (topics, sentiments and sources). Using Python, I will look at the the 10 most popular articles for each social media platform and determine whether any patterns emerge from the data. I plan on presenting the results of my qualitative analysis as an individual table for each social media platform and each variable being looked at (3 tables for each question). Below each table I will describe if any patterns emerge. For example, Question 4 will present a table containing the variables of popularity, the topic, and the social media platform being looked at. This will be followed by a descriptive analysis. After my description will be the second table for Question 4 which will have the same exact variables except the social media platform will be different. This table will then be followed by its own descriptive analysis, and so forth.\n",
    "\n"
   ]
  },
  {
   "cell_type": "markdown",
   "id": "75fc08a7-c65c-41d3-b472-b348fdb58314",
   "metadata": {},
   "source": [
    "## Findings:"
   ]
  },
  {
   "cell_type": "markdown",
   "id": "3a00db26-22fb-442a-bba2-559090238f0f",
   "metadata": {},
   "source": [
    "### Question 1: Does the sentiment of an article title correlate to its popularity?\n",
    "\n",
    "To answer this question, I had to analyze each social media platform (Facebook, Google+, LinkedIn) separately.\n",
    "\n",
    "#### Q1) Facebook\n",
    "First I imported the `Pandas` package as `pd` in order to analyze the dataset. Additionally, I imported the Spearman Rank correlation, `spearmanr` from the `scipy.stats` Package in order to analyze the dataset."
   ]
  },
  {
   "cell_type": "code",
   "execution_count": 3,
   "id": "6de375d7-a368-4191-953c-5138a6b7f52c",
   "metadata": {},
   "outputs": [],
   "source": [
    "#Import Pandas package\n",
    "import pandas as pd\n",
    "\n",
    "#Import the Spearman Rank correlation from the SciPy Stats Package\n",
    "from scipy.stats import spearmanr"
   ]
  },
  {
   "cell_type": "markdown",
   "id": "8b9fa0f5-19c5-4722-8b07-54da8a962a58",
   "metadata": {},
   "source": [
    "Next, I read the dataset *News_Final.csv* as a dataframe using `pd.read_csv()` and save it as `df`. And as stated previously, there are some cases in which the popularity value of a news item could not be acquired. In order to avoid these cases from corrupting our calculations, I removed every instance from `df` where the popularity value is -1 (meaning it could not be acquired) by using `df.loc[df[\"Facebook\"] != -1]`. I specified the popularity values of Facebook because that is the social media platform I will look at first. "
   ]
  },
  {
   "cell_type": "code",
   "execution_count": 4,
   "id": "25dd6a5d-acf1-4abc-ae39-1c5f395557c5",
   "metadata": {},
   "outputs": [],
   "source": [
    "#Read raw dataset as DataFrame\n",
    "df = pd.read_csv(\"News_Final.csv\")\n",
    "\n",
    "#Remove all cases in which the popularity value of Facebook is -1 (meaning the popularity value was not acquirable)\n",
    "df = df.loc[df[\"Facebook\"] != -1]"
   ]
  },
  {
   "cell_type": "markdown",
   "id": "5c082dac-b1ff-499b-9868-21846c5dbbec",
   "metadata": {},
   "source": [
    "With the cleaned up DataFrame, I found the correlation bewteen the sentiment of article titles and the Facebook popularity values by conducting a Spearman Rank Correlation `spearmanr(df['SentimentTitle'], df['Facebook'])` that will gave me the rho-value, `rho`, and p-value, `p`, which I then printed."
   ]
  },
  {
   "cell_type": "code",
   "execution_count": 5,
   "id": "58510e63-4eed-4a95-9624-23adcdba6319",
   "metadata": {},
   "outputs": [
    {
     "name": "stdout",
     "output_type": "stream",
     "text": [
      "The rho-value is -0.02294281802183881\n",
      "The p-value is 5.5259904327745316e-11\n",
      "\n"
     ]
    }
   ],
   "source": [
    "#Calculate Spearman Rank correlation and corresponding p-value\n",
    "rho, p = spearmanr(df['SentimentTitle'], df['Facebook'])\n",
    "\n",
    "#Print Spearman Rank Correlation and p-value\n",
    "print(\"The rho-value is \" + str(rho))\n",
    "print(\"The p-value is \" + str(p) + \"\\n\")"
   ]
  },
  {
   "cell_type": "markdown",
   "id": "9d54d015-c60d-4d1d-a284-246d0f2f8b6f",
   "metadata": {},
   "source": [
    "The rho-value of -0.0229 indicates that **there is a very small negative correlation between the sentiment of a title and its popularity on Facebook, meaning articles with more negative titles are correlated to being more popular on Facebook**. And because the p-value is well below the threshold of 0.05, this correlation is statistically significant.\n",
    "\n",
    "Although the rho-value is close to 0 (which would denote no correlation between the two variables), a large sample size with a very weak correlation rho-value can have a significant p-value. In this case, the weak correlation is not due to chance factors, but because with a large sample the low correlation is a statistically 'real' or representative of the population. This means that although the correlation is small, it exists and is worth noting."
   ]
  },
  {
   "cell_type": "markdown",
   "id": "5d6bd0e0-799e-44b4-a00d-f8bcc17522dc",
   "metadata": {},
   "source": [
    "#### Q1) Google+\n",
    "\n",
    "In order to avoid removing cases where the popularity value of Google+ exists but is -1 for Facebook, I had to re-read the *News_Final.csv* in order to reset the DataFrame. After this, I removed the cases where the popularity values for Google+ are -1. Then I performed the same steps as above to conduct the Spearman Rank correlation and print out the rho-value and p-value, except this time I analyzed `df['GooglePlus']` instead of looking at the values of Facebook."
   ]
  },
  {
   "cell_type": "code",
   "execution_count": 6,
   "id": "1c86dfe3-ce5f-425b-9115-170b27a636a7",
   "metadata": {},
   "outputs": [
    {
     "name": "stdout",
     "output_type": "stream",
     "text": [
      "The rho-value is -0.016098803472051015\n",
      "The p-value is 1.9149871400409848e-06\n",
      "\n"
     ]
    }
   ],
   "source": [
    "#Read raw dataset as DataFrame\n",
    "df = pd.read_csv(\"News_Final.csv\")\n",
    "\n",
    "#Remove all cases in which the popularity value of Google+ is -1 (meaning the popularity value was not acquirable)\n",
    "df = df.loc[df[\"GooglePlus\"] != -1]\n",
    "\n",
    "#Calculate Spearman Rank correlation and corresponding p-value\n",
    "rho, p = spearmanr(df['SentimentTitle'], df['GooglePlus'])\n",
    "\n",
    "#Print Spearman rank correlation and p-value\n",
    "print(\"The rho-value is \" + str(rho))\n",
    "print(\"The p-value is \" + str(p) + \"\\n\")"
   ]
  },
  {
   "cell_type": "markdown",
   "id": "0455efc5-ac81-4983-b679-1c4904ad7cac",
   "metadata": {},
   "source": [
    "The rho-value of -0.016 indicates that **there is a very small negative correlation between the sentiment of a title and its popularity on Google+, meaning articles with more negative titles are correlated to being more popular on Google+**. And because the p-value is well below the threshold of 0.05, this correlation is statistically significant.\n",
    "\n",
    "Again, although the rho-value is close to 0 (which would denote no correlation between the two variables) a large sample size with a very weak correlation rho-value can have a significant p-value. In this case, the weak correlation is not due to chance factors, but because with a large sample the low correlation is a statistically 'real' or representative of the population. This means that although the correlation is small, it exists and is worth noting."
   ]
  },
  {
   "cell_type": "markdown",
   "id": "e68006b7-c537-4a97-aac2-47f9318d5e5b",
   "metadata": {},
   "source": [
    "#### Q1) LinkedIn\n",
    "\n",
    "In order to avoid removing cases where the popularity value of LinkedIn exists but is -1 for Google+, I had to re-read the *News_Final.csv* in order to reset the DataFrame. After this, I removed the cases where the popularity values for LinkedIn are -1. Then I performed the same steps as above to conduct the Spearman Rank correlation and print out the rho-value and p-value, , except this time I analyzed `df['LinkedIn']` instead of looking at the values of Facebook."
   ]
  },
  {
   "cell_type": "code",
   "execution_count": 7,
   "id": "25a90734-e2d7-4aa1-a887-523b25e95952",
   "metadata": {},
   "outputs": [
    {
     "name": "stdout",
     "output_type": "stream",
     "text": [
      "The rho-value is -0.005139980438811487\n",
      "The p-value is 0.1284197911979036\n",
      "\n"
     ]
    }
   ],
   "source": [
    "#Read raw dataset as DataFrame\n",
    "df = pd.read_csv(\"News_Final.csv\")\n",
    "\n",
    "#Remove all cases in which the popularity value of LinkedIn is -1 (meaning the popularity value was not acquirable)\n",
    "df = df.loc[df[\"LinkedIn\"] != -1]\n",
    "\n",
    "#Calculate Spearman Rank correlation and corresponding p-value\n",
    "rho, p = spearmanr(df['SentimentTitle'], df['LinkedIn'])\n",
    "\n",
    "#Print Spearman rank correlation and p-value\n",
    "print(\"The rho-value is \" + str(rho))\n",
    "print(\"The p-value is \" + str(p) + \"\\n\")"
   ]
  },
  {
   "cell_type": "markdown",
   "id": "d424f3af-60c6-4ffa-b95d-bf27542daa2f",
   "metadata": {},
   "source": [
    "The rho-value of -0.0051 indicates that there is a very small negative correlation between the sentiment of a title and its popularity on LinkedIn, meaning articles with more negative titles are correlated to being more popular on LinkedIn. But unlike the previous two correlations the p-value of 0.128 is well above the threshold of 0.05, meaning that **this correlation is not statistically significant**."
   ]
  },
  {
   "cell_type": "markdown",
   "id": "c47f032f-b12d-4912-b173-3a28bd135284",
   "metadata": {},
   "source": [
    "### Question 2: Does the sentiment of an article headline correlate to its popularity?\n",
    "\n",
    "To answer this question, I had to analyze each social media platform (Facebook, Google+, LinkedIn) separately.\n",
    "\n",
    "#### Q2) Facebook\n",
    "\n",
    "Completing the steps for this was very similar to Question 1. I first had to read the dataset *News_Final.csv* as a dataframe using `pd.read_csv()` and save it as `df`. Then I removed every instance from `df` where the popularity value is -1 (meaning it could not be acquired) by using `df.loc[df[\"Facebook\"] != -1]`. I specified the popularity values of Facebook because that is the social media platform I will look at first. "
   ]
  },
  {
   "cell_type": "code",
   "execution_count": 8,
   "id": "0896509d-c2dc-4ef3-97b0-4ed16a110a45",
   "metadata": {},
   "outputs": [],
   "source": [
    "#Read raw dataset as DataFrame\n",
    "df = pd.read_csv(\"News_Final.csv\")\n",
    "\n",
    "#Remove all cases in which the popularity value of Facebook is -1 (meaning the popularity value was not acquirable)\n",
    "df = df.loc[df[\"Facebook\"] != -1]"
   ]
  },
  {
   "cell_type": "markdown",
   "id": "1904e76a-f7a2-40a4-9706-3b09091866ed",
   "metadata": {},
   "source": [
    "With the cleaned up DataFrame, I found the correlation bewteen the sentiment of article headlines and the Facebook popularity values by conducting a Spearman Rank Correlation `spearmanr(df['SentimentHeadline'], df['Facebook'])` that will gave me the rho-value, `rho`, and p-value, `p`, which I then printed."
   ]
  },
  {
   "cell_type": "code",
   "execution_count": 9,
   "id": "8050942f-642a-4e62-9f6b-97de9f4c0dfa",
   "metadata": {},
   "outputs": [
    {
     "name": "stdout",
     "output_type": "stream",
     "text": [
      "The rho-value is 0.012887608496410779\n",
      "The p-value is 0.0002310771416921479\n",
      "\n"
     ]
    }
   ],
   "source": [
    "#Calculate Spearman Rank correlation and corresponding p-value\n",
    "rho, p = spearmanr(df['SentimentHeadline'], df['Facebook'])\n",
    "\n",
    "#Print Spearman rank correlation and p-value\n",
    "print(\"The rho-value is \" + str(rho))\n",
    "print(\"The p-value is \" + str(p) + \"\\n\")"
   ]
  },
  {
   "cell_type": "markdown",
   "id": "1cf0c93c-d8fd-4d21-b611-3f292582d35b",
   "metadata": {},
   "source": [
    "The rho-value of 0.0129 indicates that **there is a very small positive correlation between the sentiment of a headline and its popularity on Facebook, meaning articles with more positive headlines are correlated to being more popular on Facebook**. And because the p-value is well below the threshold of 0.05, this correlation is statistically significant.\n",
    "\n",
    "Although the rho-value is close to 0 (which would denote no correlation between the two variables), a large sample size with a very weak correlation rho-value can have a significant p-value. In this case, the weak correlation is not due to chance factors, but because with a large sample the low correlation is a statistically 'real' or representative of the population. This means that although the correlation is small, it exists and is worth noting."
   ]
  },
  {
   "cell_type": "markdown",
   "id": "b8b9d59b-d571-4a32-858d-f578221b6efd",
   "metadata": {},
   "source": [
    "#### Q2) Google+\n",
    "\n",
    "In order to avoid removing cases where the popularity value of Google+ exists but is -1 for Facebook, I had to re-read the *News_Final.csv* in order to reset the DataFrame. After this, I removed the cases where the popularity values for Google+ are -1. Then I performed the same steps as above to conduct the Spearman Rank correlation and print out the rho-value and p-value, except this time I analyzed `df['GooglePlus']` instead of looking at the values of Facebook."
   ]
  },
  {
   "cell_type": "code",
   "execution_count": 10,
   "id": "33d174ff-f098-410d-a85c-db2cf601a6a8",
   "metadata": {},
   "outputs": [
    {
     "name": "stdout",
     "output_type": "stream",
     "text": [
      "The rho-value is 0.008825280344565827\n",
      "The p-value is 0.00904120656682812\n",
      "\n"
     ]
    }
   ],
   "source": [
    "#Read raw dataset as DataFrame\n",
    "df = pd.read_csv(\"News_Final.csv\")\n",
    "\n",
    "#Remove all cases in which the popularity value of Google+ is -1 (meaning the popularity value was not acquirable)\n",
    "df = df.loc[df[\"GooglePlus\"] != -1]\n",
    "\n",
    "\n",
    "#Calculate Spearman Rank correlation and corresponding p-value\n",
    "rho, p = spearmanr(df['SentimentHeadline'], df['GooglePlus'])\n",
    "\n",
    "#Print Spearman rank correlation and p-value\n",
    "print(\"The rho-value is \" + str(rho))\n",
    "print(\"The p-value is \" + str(p) + \"\\n\")"
   ]
  },
  {
   "cell_type": "markdown",
   "id": "63fd3983-fd20-4b81-b72b-0eaa6191bf60",
   "metadata": {},
   "source": [
    "The rho-value of 0.0088 indicates that **there is a very small positive correlation between the sentiment of a headline and its popularity on Google+, meaning articles with more positive headlines are correlated to being more popular on Google+**. And because the p-value is well below the threshold of 0.05, this correlation is statistically significant.\n",
    "\n",
    "Again, although the rho-value is close to 0 (which would denote no correlation between the two variables), a large sample size with a very weak correlation rho-value can have a significant p-value. In this case, the weak correlation is not due to chance factors, but because with a large sample the low correlation is a statistically 'real' or representative of the population. This means that although the correlation is small, it exists and is worth noting."
   ]
  },
  {
   "cell_type": "markdown",
   "id": "de6ee3e5-81b8-4d7c-9ef9-1ed1a63c5310",
   "metadata": {},
   "source": [
    "#### Q2) LinkedIn\n",
    "\n",
    "In order to avoid removing cases where the popularity value of LinkedIn exists but is -1 for Google+, I had to re-read the *News_Final.csv* in order to reset the DataFrame. After this, I removed the cases where the popularity values for LinkedIn are -1. Then I performed the same steps as above to conduct the Spearman Rank correlation and print out the rho-value and p-value, , except this time I analyzed `df['LinkedIn']` instead of looking at the values of Facebook."
   ]
  },
  {
   "cell_type": "code",
   "execution_count": 11,
   "id": "4b0581fa-b274-459f-891c-9b094bccdf6f",
   "metadata": {},
   "outputs": [
    {
     "name": "stdout",
     "output_type": "stream",
     "text": [
      "The rho-value is 0.014376066350593405\n",
      "The p-value is 2.1138687562768872e-05\n",
      "\n"
     ]
    }
   ],
   "source": [
    "#Read raw dataset as DataFrame\n",
    "df = pd.read_csv(\"News_Final.csv\")\n",
    "\n",
    "#Remove all cases in which the popularity value of LinkedIn is -1 (meaning the popularity value was not acquirable)\n",
    "df = df.loc[df[\"LinkedIn\"] != -1]\n",
    "\n",
    "#Calculate Spearman Rank correlation and corresponding p-value\n",
    "rho, p = spearmanr(df['SentimentHeadline'], df['LinkedIn'])\n",
    "\n",
    "#Print Spearman rank correlation and p-value\n",
    "print(\"The rho-value is \" + str(rho))\n",
    "print(\"The p-value is \" + str(p) + \"\\n\")"
   ]
  },
  {
   "cell_type": "markdown",
   "id": "e9b17513-c2eb-431b-abe2-7597540f52c8",
   "metadata": {},
   "source": [
    "The rho-value of 0.014 indicates that **there is a very small positive correlation between the sentiment of a headline and its popularity on LinkedIn, meaning articles with more positive headlines are correlated to being more popular on LinkedIn**. And because the p-value is well below the threshold of 0.05, this correlation is statistically significant.\n",
    "\n",
    "Again, although the rho-value is close to 0 (which would denote no correlation between the two variables), a large sample size with a very weak correlation rho-value can have a significant p-value. In this case, the weak correlation is not due to chance factors, but because with a large sample the low correlation is a statistically 'real' or representative of the population. This means that although the correlation is small, it exists and is worth noting."
   ]
  },
  {
   "cell_type": "markdown",
   "id": "47f24399-d823-4522-a58f-ac75b750b510",
   "metadata": {},
   "source": [
    "### Question 3: Is there a correlation between the sentiments of article headlines and the article titles?\n",
    "\n",
    "The steps for this question was very similar to questions 1 and 2. I first had to read the dataset *News_Final.csv* as a dataframe using `pd.read_csv()` and save it as `df`. But unlike the previous 2 questions, I didn't have to remove any cases where the popularity value is -1 because I was only looking at the correlation between the sentiment of the article titles and the sentiment of the article headlines."
   ]
  },
  {
   "cell_type": "code",
   "execution_count": 12,
   "id": "b5bf08df-2255-41cd-93c0-f234698bab30",
   "metadata": {},
   "outputs": [],
   "source": [
    "#Read raw dataset as DataFrame\n",
    "df = pd.read_csv(\"News_Final.csv\")"
   ]
  },
  {
   "cell_type": "markdown",
   "id": "9217ae14-e5b5-4885-bbea-997c825a3129",
   "metadata": {},
   "source": [
    "After creating the DataFrame `pd` I conducted a Spearman Rank correlation `spearmanr(df['SentimentTitle'], df['SentimentHeadline'])` similar to previous two questions, and then printed their rho-value, `rho`, and p-value, `p`."
   ]
  },
  {
   "cell_type": "code",
   "execution_count": 13,
   "id": "73ee4f30-f7a7-4357-9b97-6542b5f9249d",
   "metadata": {},
   "outputs": [
    {
     "name": "stdout",
     "output_type": "stream",
     "text": [
      "The rho-value is 0.17748034416078898\n",
      "The p-value is 0.0\n",
      "\n"
     ]
    }
   ],
   "source": [
    "#Calculate Spearman Rank correlation and corresponding p-value\n",
    "rho, p = spearmanr(df['SentimentTitle'], df['SentimentHeadline'])\n",
    "\n",
    "#Print Spearman rank correlation and p-value\n",
    "print(\"The rho-value is \" + str(rho))\n",
    "print(\"The p-value is \" + str(p) + \"\\n\")"
   ]
  },
  {
   "cell_type": "markdown",
   "id": "68348d95-7aa5-455b-aea7-99c39aa4cb8c",
   "metadata": {},
   "source": [
    "The rho-value of 0.177 indicates that **there is a very small positive correlation between the sentiment of an article title and the sentiment of its headline, meaning articles with more positive titles are correlated with having more positive headlines**. And because the p-value is well below the threshold of 0.05, this correlation is statistically significant.\n",
    "\n",
    "Again, although the rho-value is close to 0 (which would denote no correlation between the two variables), a large sample size with a very weak correlation rho-value can have a significant p-value. In this case, the weak correlation is not due to chance factors, but because with a large sample the low correlation is a statistically 'real' or representative of the population. This means that although the correlation is small, it exists and is worth noting."
   ]
  },
  {
   "cell_type": "markdown",
   "id": "b2b6c759-ac02-4d64-b351-c54e85d73708",
   "metadata": {},
   "source": [
    "### Question 4: What article topics are most popular on social media platforms?\n",
    "To answer this question, I had to analyze each social media platform (Facebook, Google+, LinkedIn) separately.\n",
    "\n",
    "*Note: In order for the following code to function properly, you must download the tabulate module downloaded in terminal using* `pip install tabulate`"
   ]
  },
  {
   "cell_type": "markdown",
   "id": "e1d93c2d-b3a3-406e-88a4-0e228808663d",
   "metadata": {},
   "source": [
    "#### Q4) Facebook\n",
    "\n",
    "In order to answer this question, I first had to read in the raw dataset *News_Final.csv* using `pd.read_csv()` as a DataFrame, `df`."
   ]
  },
  {
   "cell_type": "code",
   "execution_count": 33,
   "id": "add0eef3-c4c3-4dd5-9075-9bdb4a91a7b8",
   "metadata": {},
   "outputs": [],
   "source": [
    "#Read raw dataset as DataFrame\n",
    "df = pd.read_csv(\"News_Final.csv\")"
   ]
  },
  {
   "cell_type": "markdown",
   "id": "fcb0d77d-414d-4d65-aeab-57212c9b6ee4",
   "metadata": {},
   "source": [
    "Next I sorted the DataFrame is descending order according to the Facebook popularity scores using `df.sort_values(\"Facebook\", ascending=False)` and cut the DataFrame to the 10 most popular articles using `.head(10)`."
   ]
  },
  {
   "cell_type": "code",
   "execution_count": 34,
   "id": "1fa60746-aacc-48c9-9032-4dd4547d71ff",
   "metadata": {},
   "outputs": [],
   "source": [
    "df = df.sort_values(\"Facebook\", ascending=False).head(10)"
   ]
  },
  {
   "cell_type": "markdown",
   "id": "89663cc7-41af-4b54-a81a-e681c72de6e1",
   "metadata": {},
   "source": [
    "After this I cut the DataFrame to only contain the columns of `Topic`, `Title` and the `Facebook` Popularity score using `df = df[[\"Topic\", \"Title\", \"Facebook\"]]`. The reason I decided to include the Article Title was to give more context about the inclusion of the topic. Finally, I print the DataFrame in a manner that is easily readable using `print(df.to_markdown(index=False)) `."
   ]
  },
  {
   "cell_type": "code",
   "execution_count": 35,
   "id": "3c7d5ff7-4c19-4bc4-ae85-6e8c422c459d",
   "metadata": {},
   "outputs": [
    {
     "name": "stdout",
     "output_type": "stream",
     "text": [
      "| Topic     | Title                                                                         |   Facebook |\n",
      "|:----------|:------------------------------------------------------------------------------|-----------:|\n",
      "| economy   | Editorial: Welcome rain clouds issues for economy                             |      49211 |\n",
      "| obama     | Fact Check: Top 10 Lies in Obama's State of the Union                         |      40836 |\n",
      "| obama     | I Miss Barack Obama                                                           |      32385 |\n",
      "| obama     | Obama's legacy is at stake                                                    |      30489 |\n",
      "| economy   | For the Wealthiest, a Private Tax System That Saves Them Billions             |      29564 |\n",
      "| obama     | How the inner Obama fights ISIS                                               |      24594 |\n",
      "| obama     | Paul Ryan Betrays America: $1.1 Trillion, 2000-Plus Page Omnibus ...          |      22518 |\n",
      "| microsoft | Microsoft's 'teen girl' AI turns into a Hitler-loving sex robot within 24 ... |      22346 |\n",
      "| microsoft | GZ Roundtable: Is Microsoft's effort to bring Xbox One exclusives to ...      |      20371 |\n",
      "| microsoft | Microsoft's Cortana won't take your crap                                      |      19771 |\n"
     ]
    }
   ],
   "source": [
    "df = df[[\"Topic\", \"Title\", \"Facebook\"]]\n",
    "\n",
    "print(df.to_markdown(index=False)) "
   ]
  },
  {
   "cell_type": "markdown",
   "id": "9ed27522-7ce7-44c9-9095-8ae410e4ba1a",
   "metadata": {},
   "source": [
    "Before analyzing this table, there are some key takewayas that need to be looked at. First, there is a large discrepancy between the most popular article and the tenth most popular article in the table. Second, **Obama is the most popular topic as it accounts for 5 of the top 10 most popular articles on Facebook**. Additionally, the top 4 article titles could be considered controversial as they are inherently political (and all of them except for the \"Fact Check\" article are argumentative). **Although not all of these topics are controversial, the topics combined with their titles could be seen in this light.**"
   ]
  },
  {
   "cell_type": "markdown",
   "id": "cff2e571-3d20-4a97-8853-f3830e199989",
   "metadata": {},
   "source": [
    "#### Q4) Google+\n",
    "\n",
    "To answer this question for Google+, I repeated everything I did above for Facebook except this time I sorted the 10 most popular values based on the popularity scores of Google+ using `df.sort_values(\"GooglePlus\", ascending=False).head(10)`. Then I cut the DataFrame to only contain the `Topic`, `Title` and the `GooglePlus` popularity score using `df = df[[\"Topic\", \"Title\", \"GooglePlus\"]]`. Then I printed it out with the same line of code done previously."
   ]
  },
  {
   "cell_type": "code",
   "execution_count": 39,
   "id": "f0be4bda-084b-4f70-93ef-6f4dde1eb50e",
   "metadata": {},
   "outputs": [
    {
     "name": "stdout",
     "output_type": "stream",
     "text": [
      "| Topic     | Title                                                                         |   GooglePlus |\n",
      "|:----------|:------------------------------------------------------------------------------|-------------:|\n",
      "| economy   | Under Sanders, income and jobs would soar, economist says                     |         1267 |\n",
      "| microsoft | Microsoft is adding the Linux command line to Windows 10                      |         1016 |\n",
      "| microsoft | Learning the Alphabet                                                         |         1001 |\n",
      "| microsoft | Microsoft's 'teen girl' AI turns into a Hitler-loving sex robot within 24 ... |          973 |\n",
      "| economy   | Intervention by PM at G20 working session on Inclusive Growth ...             |          804 |\n",
      "| microsoft | Microsoft and Canonical partner to bring Ubuntu to Windows 10                                                                               |          781 |\n",
      "| economy   | For the Wealthiest, a Private Tax System That Saves Them Billions             |          774 |\n",
      "| obama     | Michele Bachmann warns Obama will take over the United Nations ...            |          725 |\n",
      "| obama     | Police Chief: 'Revolution' Coming if Obama Tries to Disarm ...                |          666 |\n",
      "| microsoft | Microsoft says new processors will only work with Windows 10                  |          577 |\n"
     ]
    }
   ],
   "source": [
    "df = pd.read_csv(\"News_Final.csv\")\n",
    "\n",
    "df = df.sort_values(\"GooglePlus\", ascending=False).head(10)\n",
    "\n",
    "df = df[[\"Topic\", \"Title\", \"GooglePlus\"]]\n",
    "\n",
    "print(df.to_markdown(index=False)) "
   ]
  },
  {
   "cell_type": "markdown",
   "id": "418101e4-b68b-4d01-ba0e-1cd49e54b662",
   "metadata": {},
   "source": [
    "The first thing that stands out about this table is Facebook being more popular than Google+ (the most popular Facebook article was shared 49211 times versus 1267 on Google+). The second thing that stands out is that **Microsoft is the most popular article topic on Google+**. And other than the two articles with Obama as its topic, **the majority of the articles on Google+ aren't controversial**."
   ]
  },
  {
   "cell_type": "markdown",
   "id": "446d5f1a-d43a-4d44-a316-9bb5d4d364c4",
   "metadata": {},
   "source": [
    "#### Q4) LinkedIn\n",
    "\n",
    "To answer this question for LinkedIn, I repeated everything I did above for the other two platforms except this time I sorted the 10 most popular values based on the popularity scores of LinkedIn using `df.sort_values(\"LinkedIn\", ascending=False).head(10)`. Then I cut the DataFrame to only contain the `Topic`, `Title` and the `LinkedIn` popularity score using `df = df[[\"Topic\", \"Title\", \"LinkedIn\"]]`. Then I printed it out with the same line of code done previously."
   ]
  },
  {
   "cell_type": "code",
   "execution_count": 40,
   "id": "a3eb1525-124f-4b7c-bf37-e1e6acc0f88b",
   "metadata": {},
   "outputs": [
    {
     "name": "stdout",
     "output_type": "stream",
     "text": [
      "| Topic     | Title                                                                                   |   LinkedIn |\n",
      "|:----------|:----------------------------------------------------------------------------------------|-----------:|\n",
      "| microsoft | Microsoft to buy LinkedIn for $26.2B in cash, makes big move into ...                   |      20341 |\n",
      "| microsoft | Microsoft to buy LinkedIn for $26B in cash, makes big move into enterprise social media |      19737 |\n",
      "| microsoft | Microsoft and LinkedIn: Together Changing the Way the World Works                       |      18004 |\n",
      "| microsoft | LinkedIn CEO: Here's Why I Sold the Company to Microsoft                                |      10465 |\n",
      "| microsoft | Microsoft to buy LinkedIn for $26.2 billion; LNKD shares jump 48 pct                    |       9237 |\n",
      "| microsoft | Microsoft to acquire LinkedIn for $26.2 billion                                         |       8115 |\n",
      "| microsoft | Microsoft to Buy LinkedIn for $26.2 Billion                                             |       6848 |\n",
      "| microsoft | Microsoft Agrees to Acquire LinkedIn for $26.2 Billion                                  |       6682 |\n",
      "| obama     | Obama on post-White House job plans: 'I'm gonna get on LinkedIn'                        |       6362 |\n",
      "| microsoft | Microsoft Pays $26 Billion for LinkedIn in Biggest Deal Yet                             |       5222 |\n"
     ]
    }
   ],
   "source": [
    "df = pd.read_csv(\"News_Final.csv\")\n",
    "\n",
    "df = df.sort_values(\"LinkedIn\", ascending=False).head(10)\n",
    "\n",
    "df = df[[\"Topic\", \"Title\", \"LinkedIn\"]]\n",
    "\n",
    "print(df.to_markdown(index=False)) "
   ]
  },
  {
   "cell_type": "markdown",
   "id": "47bcad1f-c08e-44f5-abca-91370303b31d",
   "metadata": {},
   "source": [
    "This table clearly illustrates that **Microsoft is the most popular article topic on LinkedIn**. After doing some post-analysis research, this makes a lot of sense since during the time this dataset was collected, Microsoft was in the process of purchasing LinkedIn. And after reading the titles of the articles, **none of the article topics can be considered controversial**."
   ]
  },
  {
   "cell_type": "markdown",
   "id": "27a209e9-1037-4545-822f-ce28b570ac70",
   "metadata": {},
   "source": [
    "### Question 5: Do social media platforms popularize articles with certain sentiments over others?\n",
    "*Note: In order for the following code to function properly, you must download the tabulate module downloaded in terminal using* `pip install tabulate`"
   ]
  },
  {
   "cell_type": "markdown",
   "id": "4bf756cd-91d6-4578-aa16-f8c78cb73113",
   "metadata": {},
   "source": [
    "#### Q5) Facebook\n",
    "\n",
    "Similar to Question 4, I first had to read in the raw dataset *News_Final.csv* using `pd.read_csv()` as a DataFrame, `df`."
   ]
  },
  {
   "cell_type": "code",
   "execution_count": 24,
   "id": "6ea21ec0-073a-4669-bc33-8fc3f15db46e",
   "metadata": {},
   "outputs": [],
   "source": [
    "df = pd.read_csv(\"News_Final.csv\")"
   ]
  },
  {
   "cell_type": "markdown",
   "id": "bccbc65b-4489-436d-a99e-d340a20fc2fc",
   "metadata": {},
   "source": [
    "Next I sorted the DataFrame is descending order according to the Facebook popularity scores using `df.sort_values(\"Facebook\", ascending=False)` and cut the DataFrame to the 10 most popular articles using `.head(10)`."
   ]
  },
  {
   "cell_type": "code",
   "execution_count": 25,
   "id": "e9b78faf-6fb1-4c9e-bf59-5dc00a35b068",
   "metadata": {},
   "outputs": [],
   "source": [
    "df = df.sort_values(\"Facebook\", ascending=False).head(10)"
   ]
  },
  {
   "cell_type": "markdown",
   "id": "77315455-d321-45af-92f3-e8ce78c8020e",
   "metadata": {},
   "source": [
    "After this I cut the DataFrame to only contain the columns of `SentimentTitle`, `SentimentHeadline` and the `Facebook` Popularity score using `df = df[[\"SentimentTitle\", \"SentimentHeadline\", \"Facebook\"]]`. Finally, I print the DataFrame in a manner that is easily readable using `print(df.to_markdown(index=False)) `."
   ]
  },
  {
   "cell_type": "code",
   "execution_count": 26,
   "id": "f78d682d-b475-4d8f-90fd-84983c4ad6b8",
   "metadata": {},
   "outputs": [
    {
     "name": "stdout",
     "output_type": "stream",
     "text": [
      "|   SentimentTitle |   SentimentHeadline |   Facebook |\n",
      "|-----------------:|--------------------:|-----------:|\n",
      "|        0.0708683 |           0.18474   |      49211 |\n",
      "|        0.118585  |          -0.1445    |      40836 |\n",
      "|       -0.125     |           0.168878  |      32385 |\n",
      "|        0         |          -0.0573539 |      30489 |\n",
      "|       -0.113067  |          -0.104257  |      29564 |\n",
      "|        0         |          -0.0573539 |      24594 |\n",
      "|        0.265165  |           0.100051  |      22518 |\n",
      "|       -0.144338  |          -0.0191366 |      22346 |\n",
      "|       -0.0376889 |           0.200403  |      20371 |\n",
      "|        0.149691  |          -0.206576  |      19771 |\n"
     ]
    }
   ],
   "source": [
    "df = df[[\"SentimentTitle\", \"SentimentHeadline\", \"Facebook\"]]\n",
    "\n",
    "print(df.to_markdown(index=False)) "
   ]
  },
  {
   "cell_type": "markdown",
   "id": "c3553470-7482-4ba0-83b3-3d9e52153e75",
   "metadata": {},
   "source": [
    "I was surprised to see that the most popular article on Facebook had a positive sentiment for both its title and headline, since my results in Question 1 proved illustrated that there is a small negative correlation between the sentiment of an article title and its popularity. And after analyzing this entire table, I can conclude that **there is no trend in which sentiments are most popular on Facebook**."
   ]
  },
  {
   "cell_type": "markdown",
   "id": "c2b9a646-ef89-423c-a5a0-e3190d874a60",
   "metadata": {},
   "source": [
    "#### Q5) Google+\n",
    "\n",
    "To answer this question for Google+, I repeated everything I did above for Facebook except I this time I sorted the 10 most popular values based on the popularity scores of Google+ using `df.sort_values(\"GooglePlus\", ascending=False).head(10)`. Then I cut the DataFrame to only contain the `SentimentTitle`, `SentimentHeadline`, and the `GooglePlus` popularity score using `df = df[[\"SentimentTitle\", \"SentimentHeadline\", \"GooglePlus\"]]`. Then I printed it out with the same line of code done previously."
   ]
  },
  {
   "cell_type": "code",
   "execution_count": 41,
   "id": "5e6fc92a-98c2-44e9-897c-f1c849b3cff0",
   "metadata": {},
   "outputs": [
    {
     "name": "stdout",
     "output_type": "stream",
     "text": [
      "|   SentimentTitle |   SentimentHeadline |   GooglePlus |\n",
      "|-----------------:|--------------------:|-------------:|\n",
      "|       -0.0416667 |          0.0693172  |         1267 |\n",
      "|       -0.166667  |         -0.0781828  |         1016 |\n",
      "|        0         |         -0.375326   |         1001 |\n",
      "|       -0.144338  |         -0.0191366  |          973 |\n",
      "|       -0.286581  |         -0.0196419  |          804 |\n",
      "|       -0.166667  |         -0.00326093 |          781 |\n",
      "|       -0.113067  |         -0.104257   |          774 |\n",
      "|       -0.0368932 |         -0.0340529  |          725 |\n",
      "|        0.09375   |          0.0340965  |          666 |\n",
      "|       -0.0895255 |         -0.0602381  |          577 |\n"
     ]
    }
   ],
   "source": [
    "df = pd.read_csv(\"News_Final.csv\")\n",
    "\n",
    "df = df.sort_values(\"GooglePlus\", ascending=False).head(10)\n",
    "\n",
    "df = df[[\"SentimentTitle\", \"SentimentHeadline\", \"GooglePlus\"]]\n",
    "\n",
    "print(df.to_markdown(index=False)) "
   ]
  },
  {
   "cell_type": "markdown",
   "id": "cbd34344-f103-44bc-9511-b2c0f8153750",
   "metadata": {},
   "source": [
    "This table is closer to what I expected to find during my qualitative analysis. 8 out of 10 of the articles have a negative sentiment for its title and for its headline. This table also aligns with the results of Question 3 that the sentiment of an article title positively correlates with the sentiment of its headline. Overall, this table shows that **the most popular articles on Google+ tend to have a negative sentiment for both its title and headline**."
   ]
  },
  {
   "cell_type": "markdown",
   "id": "7f882149-7378-4f11-a6e3-71708e5ffca5",
   "metadata": {},
   "source": [
    "#### Q5) LinkedIn\n",
    "\n",
    "To answer this question for LinkedIn, I repeated everything I did above for Facebook except I this time I sorted the 10 most popular values based on the popularity scores of LinkedIn using `df.sort_values(\"LinkedIn\", ascending=False).head(10)`. Then I cut the DataFrame to only contain the `SentimentTitle`, `SentimentHeadline`, and the `LinkedIn` popularity score using `df = df[[\"SentimentTitle\", \"SentimentHeadline\", \"LinkedIn\"]]`. Then I printed it out with the same line of code done previously."
   ]
  },
  {
   "cell_type": "code",
   "execution_count": 20,
   "id": "65e83d06-a8de-4eab-a1dc-5719eccef5cf",
   "metadata": {},
   "outputs": [
    {
     "name": "stdout",
     "output_type": "stream",
     "text": [
      "|   SentimentTitle |   SentimentHeadline |   LinkedIn |\n",
      "|-----------------:|--------------------:|-----------:|\n",
      "|        0.0706653 |           0.07      |      20341 |\n",
      "|        0.0954798 |           0.11875   |      19737 |\n",
      "|        0.0592927 |          -0.1125    |      18004 |\n",
      "|        0         |           0.245495  |      10465 |\n",
      "|       -0.0109801 |           0.136386  |       9237 |\n",
      "|        0.102062  |           0.0818317 |       8115 |\n",
      "|        0.051031  |           0         |       6848 |\n",
      "|        0.0944911 |          -0.028677  |       6682 |\n",
      "|        0.0578854 |          -0.133436  |       6362 |\n",
      "|       -0.0333333 |          -0.0279508 |       5222 |\n"
     ]
    }
   ],
   "source": [
    "df = pd.read_csv(\"News_Final.csv\")\n",
    "\n",
    "df = df.sort_values(\"LinkedIn\", ascending=False).head(10)\n",
    "\n",
    "df = df[[\"SentimentTitle\", \"SentimentHeadline\", \"LinkedIn\"]]\n",
    "\n",
    "print(df.to_markdown(index=False)) "
   ]
  },
  {
   "cell_type": "markdown",
   "id": "3617281b-327a-4b54-a9db-88f1b21a6c74",
   "metadata": {},
   "source": [
    "This table shows that the 7 out of 10 of the most popular articles on LinkedIn have a positive sentiment in for its title and 5 out of 10 for its headline. Looking at this table illustrates that **the most popular articles on LinkedIn tend to have a positive sentiment in its title and headline**, although the results from Question 1 proves that this is not a trend across the platform."
   ]
  },
  {
   "cell_type": "markdown",
   "id": "1da5cdd5-1cfc-4122-892d-0376df354b69",
   "metadata": {},
   "source": [
    "### Question 6: What sources are most popular on social media platforms?\n",
    "*Note: In order for the following code to function properly, you must download the tabulate module downloaded in terminal using* `pip install tabulate`"
   ]
  },
  {
   "cell_type": "markdown",
   "id": "1b3236f3-0fc0-4e80-a4c9-ac416325a178",
   "metadata": {},
   "source": [
    "#### Q6) Facebook\n",
    "\n",
    "Similar to Question 4 and 5, I first had to read in the raw dataset *News_Final.csv* using `pd.read_csv()` as a DataFrame, `df`."
   ]
  },
  {
   "cell_type": "code",
   "execution_count": null,
   "id": "e57bed50-b267-4345-9c15-3fa2fa900110",
   "metadata": {},
   "outputs": [],
   "source": [
    "df = pd.read_csv(\"News_Final.csv\")"
   ]
  },
  {
   "cell_type": "markdown",
   "id": "569a049c-5aad-4b4b-a991-d3cf07287e18",
   "metadata": {},
   "source": [
    "Next I sorted the DataFrame is descending order according to the Facebook popularity scores using `df.sort_values(\"Facebook\", ascending=False)` and cut the DataFrame to the 10 most popular articles using `.head(10)`."
   ]
  },
  {
   "cell_type": "code",
   "execution_count": null,
   "id": "e08087f9-f048-4935-94e1-a4170a899af2",
   "metadata": {},
   "outputs": [],
   "source": [
    "df = df.sort_values(\"Facebook\", ascending=False).head(10)"
   ]
  },
  {
   "cell_type": "markdown",
   "id": "a1c4d8cf-a546-485b-810e-8947ed9bd0e4",
   "metadata": {},
   "source": [
    "After this I cut the DataFrame to only contain the columns of `Source` and the `Facebook` Popularity score using `df = df[[\"Source\", \"Facebook\"]]`. Finally, I print the DataFrame in a manner that is easily readable using `print(df.to_markdown(index=False)) `."
   ]
  },
  {
   "cell_type": "code",
   "execution_count": 21,
   "id": "0a1c4c2b-4ccf-450a-90cb-4684f2fb5e2a",
   "metadata": {},
   "outputs": [
    {
     "name": "stdout",
     "output_type": "stream",
     "text": [
      "| Source             |   Facebook |\n",
      "|:-------------------|-----------:|\n",
      "| New Zealand Herald |      49211 |\n",
      "| Breitbart News     |      40836 |\n",
      "| New York Times     |      32385 |\n",
      "| CNN                |      30489 |\n",
      "| New York Times     |      29564 |\n",
      "| CNN                |      24594 |\n",
      "| Breitbart News     |      22518 |\n",
      "| Telegraph.co.uk    |      22346 |\n",
      "| GameZone           |      20371 |\n",
      "| GameZone           |      19771 |\n"
     ]
    }
   ],
   "source": [
    "df = df[[\"Source\", \"Facebook\"]]\n",
    "\n",
    "print(df.to_markdown(index=False)) "
   ]
  },
  {
   "cell_type": "markdown",
   "id": "35da9d5a-30e1-4026-a1e7-6ae1f7473cb4",
   "metadata": {},
   "source": [
    "Looking at this table initially lead me to believe that **there is no trend in which sources are most popular on Facebook** since only 3 of the sources appear more than once, but there is another perspective to be looked at. As a person who gets his news from Google News, I am familiar with New York Times, CNN, Telegraph and GameZone, and these sources account for 8 out of 10 of the most popular articles on Facebook. Although this is biased due to it being my sole perspective on news sources, I find it interesting that the most popular sources on Facebook are notable in their own right."
   ]
  },
  {
   "cell_type": "markdown",
   "id": "f02b0529-332b-4339-86da-0b591c84eb38",
   "metadata": {},
   "source": [
    "#### Q6) Google+\n",
    "\n",
    "To answer this question for Google+, I repeated everything I did above for Facebook except I this time I sorted the 10 most popular values based on the popularity scores of Google+ using `df.sort_values(\"GooglePlus\", ascending=False).head(10)`. Then I cut the DataFrame to only contain the `Source` and the `GooglePlus` popularity score using `df = df[[\"Source\", \"GooglePlus\"]]`. Then I printed it out with the same line of code done previously."
   ]
  },
  {
   "cell_type": "code",
   "execution_count": 44,
   "id": "f370d173-877a-4caf-b140-4a958ec2c5cc",
   "metadata": {},
   "outputs": [
    {
     "name": "stdout",
     "output_type": "stream",
     "text": [
      "| Source                               |   GooglePlus |\n",
      "|:-------------------------------------|-------------:|\n",
      "| CNNMoney                             |         1267 |\n",
      "| The Verge                            |         1016 |\n",
      "| The Verge                            |         1001 |\n",
      "| Telegraph.co.uk                      |          973 |\n",
      "| Narendra Modi (press release) (blog) |          804 |\n",
      "| ZDNet                                |          781 |\n",
      "| New York Times                       |          774 |\n",
      "| Raw Story                            |          725 |\n",
      "| Breitbart News                       |          666 |\n",
      "| The Verge                            |          577 |\n"
     ]
    }
   ],
   "source": [
    "df = pd.read_csv(\"News_Final.csv\")\n",
    "\n",
    "df = df.sort_values(\"GooglePlus\", ascending=False).head(10)\n",
    "\n",
    "df = df[[\"Source\", \"GooglePlus\"]]\n",
    "\n",
    "print(df.to_markdown(index=False)) "
   ]
  },
  {
   "cell_type": "markdown",
   "id": "f80aa3a3-e75f-4596-9789-7c32355cd0da",
   "metadata": {},
   "source": [
    "Again it is hard to analyze these news sources due to my own bias of what sources I know and don't know, but compared to Facebook this table seems to have a greater variety of sources. Due to the fact that the most popular articles on Google+ include a press release and three sources that I have never heard of (ZDNet, Raw Story and Breitbart News), I am inclined to conclude that **there is no trend in which sources are most popular on Google+**."
   ]
  },
  {
   "cell_type": "markdown",
   "id": "90cf0aac-ebc7-43ce-9185-2c37b0da95fb",
   "metadata": {},
   "source": [
    "#### Q6) LinkedIn\n",
    "\n",
    "To answer this question for LinkedIn, I repeated everything I did above for Facebook except I this time I sorted the 10 most popular values based on the popularity scores of LinkedIn using `df.sort_values(\"LinkedIn\", ascending=False).head(10)`. Then I cut the DataFrame to only contain the `Source` and the `LinkedIn` popularity score using `df = df[[\"Source\", \"LinkedIn\"]]`. Then I printed it out with the same line of code done previously."
   ]
  },
  {
   "cell_type": "code",
   "execution_count": 43,
   "id": "06473a04-7a20-420c-b486-f9b1150ed1a6",
   "metadata": {},
   "outputs": [
    {
     "name": "stdout",
     "output_type": "stream",
     "text": [
      "| Source                  |   LinkedIn |\n",
      "|:------------------------|-----------:|\n",
      "| TechCrunch              |      20341 |\n",
      "| Techcrunch              |      19737 |\n",
      "| LinkedIn (blog)         |      18004 |\n",
      "| TIME                    |      10465 |\n",
      "| CNBC                    |       9237 |\n",
      "| The Verge               |       8115 |\n",
      "| Wall Street Journal     |       6848 |\n",
      "| The Wall Street Journal |       6682 |\n",
      "| Politico                |       6362 |\n",
      "| Bloomberg               |       5222 |\n"
     ]
    }
   ],
   "source": [
    "df = pd.read_csv(\"News_Final.csv\")\n",
    "\n",
    "df = df.sort_values(\"LinkedIn\", ascending=False).head(10)\n",
    "\n",
    "df = df[[\"Source\", \"LinkedIn\"]]\n",
    "\n",
    "print(df.to_markdown(index=False)) "
   ]
  },
  {
   "cell_type": "markdown",
   "id": "96ea7e5b-ba30-4380-bddd-f5cbd9fbbbbe",
   "metadata": {},
   "source": [
    "The first thing I noticed about this table was that I recognized every source in it. Not only that, but that all of the sources are related to business and professional news (but not exclusive). Knowing these two things, I can confidentally infer that **the most popular sources on LinkedIn are notable and tend to be related to the professionalism that LinkedIn as a platform is used for**."
   ]
  },
  {
   "cell_type": "markdown",
   "id": "d53ee9cb-4942-4385-a434-9e2347857a45",
   "metadata": {},
   "source": [
    "### Discussion:\n",
    "\n",
    "In order to discuss my findings, I am going to talk about each question separately while making some connections between findings along the way.\n",
    "\n",
    "##### Question 1) Does the sentiment of an article title correlate to its popularity?\n",
    "\n",
    "Although the correlation was small, my findings for Facebook and Google+ (and LinkedIn although it was statistically insignificant) aligned with my hypothesis that the sentiment of an article title negatively correlated with its popularity. This means that articles with more negative titles tend to be more popular on Facebook and Google+, even if it occurs unintentionally. This is something that should be taken into consideration by users when using these social media platforms for news information.\n",
    "\n",
    "##### Question 2) Does the sentiment of an article headline correlate to its popularity?\n",
    "\n",
    "The results from this analysis showed that all three social media platforms had a positive correlation bewteen the sentiment of the article headline and its popularity. This is interesting given the negative correlations present on the previous question. This finding may mean that there isn't a causal relationship between sentiment and popularity, but this can only be confirmed with further research.\n",
    "\n",
    "##### Question 3) Is there a correlation between the sentiments of article headlines and the article titles?\n",
    "\n",
    "This was an important question to research because if they were negatively correlated (and the sentiment of an article title was negatively correlated to popularity), it could suggest that the publishers were manipulating the article titles to increase their popularity. Unfortunately (for the sake of this research) the sentiements of the article headlines and article titles were positively correlated eliminating this theory.\n",
    "\n",
    "##### Question 4) What article topics are most popular on social media platforms?\n",
    "\n",
    "I predicted that the most controversial topics would be the most popular articles on social media, but only one of the social media platforms (Facebook) aligned with this theory. Facebook has been known for its [controversial news feed algorithm](https://www.washingtonpost.com/technology/2021/11/13/facebook-news-feed-algorithm-how-to-turn-it-off/), so this makes sense. On the other hand, Google+ and LinkedIn disproved my hypothesis. Since LinkedIn promoted Microsoft content (which purchased LinkedIn) and Facebook promoted controversial topics I believe that rather than simply promoting controversial topics, social media platforms promote news articles that are beneficial to their cause.\n",
    "\n",
    "##### Question 5) Do social media platforms popularize articles with certain sentiments over others?\n",
    "\n",
    "Due to the results from Questions 1 and 2 being mixed, I didn't know if this question would bring about anything worth noting (and unfortunately it did not). Because the most popular articles on Google+ were mainly negative in its titles and headlines, the most popular articles on LinkedIn were mainly positive in its titles and headlines, and the most popular articles on Facebook didn't show a trend with regards to sentiment, I cannot make any claims about the subject. Looking at a greater amount of article may help, but the very small correlations from Questions 1 and 2 imply that the results may not differ.\n",
    "\n",
    "##### Question 6) What sources are most popular on social media platforms?\n",
    "\n",
    "Although LinkedIn showed a trend in what types of article sources were the most popular, this was not my original intention when asking this question. I wanted to see if social media platforms promoted sources that were either controversial, not well-known, or extremely notable (Fox, CNN, WSJ, etc.). LinkedIn showed some promise of the most popular sources being notable, but its variation in sources and the subjectivity around this topic makes it difficult for me to make any claims. Additionally, the fact that Facebook and Google+ didn't seem to show any trends with regards to the popularity of sources supports this reasoning."
   ]
  },
  {
   "cell_type": "markdown",
   "id": "d1618520-e35b-466e-859d-9c859bf352ca",
   "metadata": {},
   "source": [
    "### Implications\n",
    "\n",
    "Due to the correlations found during this study, this implies that there is a chance some of these correlations could contain causality. Further research should look further into whether or not there is a causality between sentiment and popularity.\n",
    "\n",
    "Additionally, the findings in this research suggests that there isn't a \"standard\" for social media across platforms. Further research should dive deeper into specific platforms, especially since their popularity has only risen since the collection of this dataset."
   ]
  },
  {
   "cell_type": "markdown",
   "id": "3a3864cf-8a97-4f45-b131-28221e758d18",
   "metadata": {},
   "source": [
    "### Limitations\n",
    "\n",
    "The biggest limitation of this dataset is not having the number of users on each platform during the time of the dataset collection. This would have provided more context about the social media platforms. Additionally Google+ is no longer a social media platform and never became popular compared to LinkedIn and Facebook, mitigating its present-day relevance of its findings.\n",
    "\n",
    "Another limitation of this dataset is that it doesn't prove causality. Obviously it is beneficial to research whether a correlation exists between two variables, but researching causality would highlight if social media platforms have underlying motivations with regards to their news."
   ]
  },
  {
   "cell_type": "markdown",
   "id": "f914e21f-077b-4464-8154-5e78f3883fa9",
   "metadata": {},
   "source": [
    "### Conclusion:\n",
    "\n",
    "The goal of this study was to uncover the hidden motivations of social media platforms as well as inform users about their tendecies in relation to the news they interact with on social media. Although a lot of the findings weren't related, **I can conclude that there is a correlation between sentiment and popularity, but it is inconsistent between article titles and headlines as well as across platforms**. Using a combination of quantitative and qualitative analysises helped to reveal some of the trends of news on social media, but further research is necessary. This study provides a solid framework to conduct further research about how people interact with news on social media and whether there is a causal relationship between sentiment and popularity."
   ]
  },
  {
   "cell_type": "markdown",
   "id": "3c673c44-677e-4c20-a62e-643be6efea7e",
   "metadata": {},
   "source": [
    "### References:\n",
    "\n",
    "Torgo, Lus & Moniz, Nuno. (2018). News Popularity in Multiple Social Media Platforms. UCI Machine Learning Repository."
   ]
  }
 ],
 "metadata": {
  "kernelspec": {
   "display_name": "Python 3 (ipykernel)",
   "language": "python",
   "name": "python3"
  },
  "language_info": {
   "codemirror_mode": {
    "name": "ipython",
    "version": 3
   },
   "file_extension": ".py",
   "mimetype": "text/x-python",
   "name": "python",
   "nbconvert_exporter": "python",
   "pygments_lexer": "ipython3",
   "version": "3.9.7"
  }
 },
 "nbformat": 4,
 "nbformat_minor": 5
}
